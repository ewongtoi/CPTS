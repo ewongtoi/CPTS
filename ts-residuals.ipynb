{
 "cells": [
  {
   "cell_type": "code",
   "execution_count": 1,
   "id": "28f8cd1f",
   "metadata": {},
   "outputs": [],
   "source": [
    "import pickle\n",
    "import numpy as np\n",
    "import pandas as pd\n",
    "import torch\n",
    "from sklearn.preprocessing import StandardScaler\n",
    "import matplotlib.pyplot as plt\n",
    "from src.models import rnn, lstm, bjrnn, cfrnn, copulaCPTS, dplstm, vanila_copula\n",
    "\n",
    "from src.experiments.covid_exp import COVIDDataset\n",
    "\n",
    "import logging\n",
    "import datetime\n",
    "from tabulate import tabulate"
   ]
  },
  {
   "cell_type": "code",
   "execution_count": 21,
   "id": "1d1b4421",
   "metadata": {},
   "outputs": [],
   "source": [
    "horizon = 10\n",
    "with open(\"processed_data/covid_conformal_%d.pkl\" % horizon, \"rb\") as f:\n",
    "    train_dataset, calibration_dataset, test_dataset = pickle.load(f)\n",
    "    \n",
    "for i in range(3):\n",
    "\n",
    "    with open(\"trained/200models_covid_daily_vanilla%d.pkl\" % i, \"rb\") as f:\n",
    "        model_list = pickle.load(f)\n",
    "    covid_predictions = {\"rnn_train_preds\": model_list[1](train_dataset.X)[0],\n",
    "                       \"rnn_calib_preds\": model_list[1](calibration_dataset.X)[0],\n",
    "                       \"rnn_test_preds\": model_list[1](test_dataset.X)[0],\n",
    "                       \"lstm_train_preds\": model_list[0].predict(train_dataset.X),\n",
    "                       \"lstm_calib_preds\": model_list[0].predict(calibration_dataset.X),\n",
    "                       \"lstm_test_preds\": model_list[0].predict(test_dataset.X)}\n",
    "\n",
    "    #with open(\"./covid_data/covid_predictions_200epochs_%dhorizon_%d.pkl\" % (horizon, i), \"wb\") as f:\n",
    "        #pickle.dump(covid_predictions, f)"
   ]
  },
  {
   "cell_type": "code",
   "execution_count": 15,
   "id": "f76f0b93",
   "metadata": {},
   "outputs": [
    {
     "name": "stdout",
     "output_type": "stream",
     "text": [
      "\\begin{tabular}{lll}\n",
      "\\hline\n",
      " Method        & Coverage          & Area              \\\\\n",
      "\\hline\n",
      " dprnn         & 0.2057 $\\pm$ 0.00 & 1.2376 $\\pm$ 0.02 \\\\\n",
      " cfrnn         & 0.8451 $\\pm$ 0.02 & 4.5444 $\\pm$ 0.43 \\\\\n",
      " copula-rnn    & 0.7381 $\\pm$ 0.01 & 4.0305 $\\pm$ 0.41 \\\\\n",
      " cf-EncDec     & 0.8573 $\\pm$ 0.03 & 5.0320 $\\pm$ 0.80 \\\\\n",
      " copula-EncDec & 0.7381 $\\pm$ 0.02 & 4.2340 $\\pm$ 0.10 \\\\\n",
      "\\hline\n",
      "\\end{tabular}\n"
     ]
    }
   ],
   "source": [
    "keys = ['dprnn', 'cfrnn', 'copula-rnn', 'cf-EncDec', 'copula-EncDec']\n",
    "\n",
    "\n",
    "default_value = []  # You can set the default value if needed\n",
    "\n",
    "cov_dict = {key: [] for key in keys}\n",
    "\n",
    "area_dict = {key: [] for key in keys}\n",
    "    \n",
    "\n",
    "\n",
    "for i in range(3):\n",
    "    #with open(\"trained/results_covid_daily_vanilla%d.pkl\" % i, \"rb\") as f:\n",
    "    with open(\"trained/results_particle5_run%d.pkl\" % i, \"rb\") as f:\n",
    "        results = pickle.load(f)\n",
    "    \n",
    "    for k in keys:\n",
    "        cov_dict[k].append(torch.tensor(results[1][k]).mean().item())\n",
    "        area_dict[k].append(torch.tensor(results[0][k]).mean().item())\n",
    "    \n",
    "cov_means = {key: [] for key in keys}\n",
    "area_means = {key: [] for key in keys}  \n",
    "\n",
    "cov_sds = {key: [] for key in keys}\n",
    "area_sds = {key: [] for key in keys}  \n",
    "    \n",
    "for k in keys:\n",
    "    cov_means[k] = torch.tensor(cov_dict[k]).mean().item()\n",
    "    cov_sds[k] = torch.tensor(cov_dict[k]).var().pow(.5).item()\n",
    "    area_means[k] = torch.tensor(area_dict[k]).mean().item()\n",
    "    area_sds[k] = torch.tensor(area_dict[k]).var().pow(.5).item()\n",
    "\n",
    "# Combine means and sds dictionaries into a single dictionary\n",
    "combined_data = {\n",
    "    method: (cov_means[method], cov_sds[method], area_means[method], area_sds[method])\n",
    "    for method in means\n",
    "}\n",
    "\n",
    "# Create table headers\n",
    "headers = [\"Method\", \"Coverage\", \"Area\", \"Secondary Coverage\", \"Secondary Area\"]\n",
    "\n",
    "# Create table rows\n",
    "table_data = [\n",
    "    (method, \"{:.4f} $\\\\pm$ {:.2f}\".format(data[0], data[1]), \"{:.4f} $\\\\pm$ {:.2f}\".format(data[2], data[3]))\n",
    "    for method, data in combined_data.items()\n",
    "]\n",
    "\n",
    "# Print the table in LaTeX format\n",
    "print(tabulate(table_data, headers=headers, tablefmt=\"latex_raw\"))"
   ]
  },
  {
   "cell_type": "code",
   "execution_count": 59,
   "id": "e4d00f02",
   "metadata": {},
   "outputs": [],
   "source": [
    "\n",
    "datapaths = {\"train\": \"nridata/loc_train_springs2_noise_0.05.npy\",\n",
    "             \"valid\": \"nridata/loc_valid_springs2_noise_0.05.npy\",\n",
    "             \"test\": \"nridata/loc_test_springs2_noise_0.05.npy\"}\n",
    "\n",
    "\n",
    "\n",
    "for i in range(3):\n",
    "    particle_predictions = {}\n",
    "    with open(\"trained/models_particle5_run%d.pkl\" % i, \"rb\") as f:\n",
    "        model_list = pickle.load(f)\n",
    "    for k,v in datapaths.items():\n",
    "        data = np.load(v)\n",
    "        \n",
    "        x = torch.tensor(data[:, :35, 0, :], dtype=torch.float)\n",
    "        y = torch.tensor(data[:, 35:, 0, :], dtype=torch.float)\n",
    "            \n",
    "        particle_predictions[\"rnn_%s_preds\" % k]= model_list[0](x)[0]\n",
    "        particle_predictions[\"lstm_%s_preds\" % k] = model_list[1].predict(x)\n",
    "        \n",
    "        with open(\"./particle_data/particle5_y_%s.pkl\" % k, \"wb\") as f:\n",
    "            pickle.dump(y, f)\n",
    "    \n",
    "\n",
    "    with open(\"./particle_data/particle5_predictions_%d.pkl\" % i, \"wb\") as f:\n",
    "        pickle.dump(particle_predictions, f)\n",
    "        \n",
    "    \n",
    "datapaths = {'train': \"nridata/loc_train_springs2_noise_0.01.npy\",\n",
    "             'valid': \"nridata/loc_valid_springs2_noise_0.01.npy\",\n",
    "             'test': \"nridata/loc_test_springs2_noise_0.01.npy\"}\n",
    "\n",
    "\n",
    "for i in range(3):\n",
    "    particle_predictions = {}\n",
    "    with open(\"trained/models_particle1_run%d.pkl\" % i, \"rb\") as f:\n",
    "        model_list = pickle.load(f)\n",
    "    for k,v in datapaths.items():\n",
    "        data = np.load(v)\n",
    "        \n",
    "        x = torch.tensor(data[:, :35, 0, :], dtype=torch.float)\n",
    "        y = torch.tensor(data[:, 35:, 0, :], dtype=torch.float)\n",
    "            \n",
    "        particle_predictions[\"rnn_%s_preds\" % k]= model_list[0](x)[0]\n",
    "        particle_predictions[\"lstm_%s_preds\" % k] = model_list[1].predict(x)\n",
    "        \n",
    "        with open(\"./particle_data/particle1_y_%s.pkl\" % k, \"wb\") as f:\n",
    "            pickle.dump(y, f)\n",
    "        \n",
    "    with open(\"./particle_data/particle1_predictions_%d.pkl\" % i, \"wb\") as f:\n",
    "        pickle.dump(particle_predictions, f)"
   ]
  },
  {
   "cell_type": "code",
   "execution_count": 58,
   "id": "8af420cb",
   "metadata": {},
   "outputs": [
    {
     "data": {
      "text/plain": [
       "dict_keys(['rnn_train_preds', 'lstm_train_preds', 'rnn_valid_preds', 'lstm_valid_preds', 'rnn_test_preds', 'lstm_test_preds'])"
      ]
     },
     "execution_count": 58,
     "metadata": {},
     "output_type": "execute_result"
    }
   ],
   "source": [
    "particle_predictions.keys()"
   ]
  },
  {
   "cell_type": "code",
   "execution_count": null,
   "id": "96c9085b",
   "metadata": {},
   "outputs": [],
   "source": []
  }
 ],
 "metadata": {
  "kernelspec": {
   "display_name": "conformal",
   "language": "python",
   "name": "conformal"
  },
  "language_info": {
   "codemirror_mode": {
    "name": "ipython",
    "version": 3
   },
   "file_extension": ".py",
   "mimetype": "text/x-python",
   "name": "python",
   "nbconvert_exporter": "python",
   "pygments_lexer": "ipython3",
   "version": "3.8.19"
  }
 },
 "nbformat": 4,
 "nbformat_minor": 5
}
